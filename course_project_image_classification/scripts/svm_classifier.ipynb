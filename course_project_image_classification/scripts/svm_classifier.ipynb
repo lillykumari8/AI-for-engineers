{
 "cells": [
  {
   "cell_type": "markdown",
   "metadata": {},
   "source": [
    "Importing necessary libraries for Data Loading & SVM modeling for Multi-class classification on Fashion-MNIST Dataset\n",
    "\n",
    "Packages Used:-\n",
    "* matplotlib - for plotting and visualization\n",
    "* keras - for loading Fashion-MNIST dataset\n",
    "* sklearn - for features normalization, Grid Search for Hyper-parameters, SVM classifier, Evaluation Metrics\n",
    "* numpy - for array operations\n",
    "* pickle - for saving/loading learned SVM model"
   ]
  },
  {
   "cell_type": "code",
   "execution_count": 49,
   "metadata": {
    "colab": {
     "base_uri": "https://localhost:8080/",
     "height": 34
    },
    "colab_type": "code",
    "id": "xFDkYdaVie4f",
    "outputId": "9b58c892-6fe8-424e-ecc9-4cbc3f0f7e8e"
   },
   "outputs": [],
   "source": [
    "## Author - Lilly Kumari\n",
    "import os, sys, time\n",
    "import keras\n",
    "import numpy as np\n",
    "import pickle\n",
    "from sklearn.model_selection import GridSearchCV\n",
    "from sklearn.preprocessing import StandardScaler\n",
    "from sklearn import svm, model_selection\n",
    "from sklearn.metrics import confusion_matrix, accuracy_score, classification_report\n",
    "import matplotlib.pyplot as plt\n",
    "%matplotlib inline"
   ]
  },
  {
   "cell_type": "code",
   "execution_count": 8,
   "metadata": {
    "colab": {},
    "colab_type": "code",
    "id": "2RXwfc45alk6"
   },
   "outputs": [],
   "source": [
    "# change accordingly on your machine\n",
    "BASE_PATH = '/home/lilly/Pictures/ai_project/'\n",
    "if not os.path.exists(BASE_PATH):\n",
    "    os.makedirs(BASE_PATH)"
   ]
  },
  {
   "cell_type": "code",
   "execution_count": 9,
   "metadata": {
    "colab": {
     "base_uri": "https://localhost:8080/",
     "height": 153
    },
    "colab_type": "code",
    "id": "nRQI5xHsjAtF",
    "outputId": "ab813cef-46f6-4707-a953-5bc3ca563823"
   },
   "outputs": [],
   "source": [
    "## Loading the dataset\n",
    "(x_train, y_train), (x_test, y_test) = keras.datasets.fashion_mnist.load_data()"
   ]
  },
  {
   "cell_type": "code",
   "execution_count": 10,
   "metadata": {
    "colab": {
     "base_uri": "https://localhost:8080/",
     "height": 265
    },
    "colab_type": "code",
    "id": "ElQkMwlijK-_",
    "outputId": "ae663e81-8f1f-46b1-f0d6-1282377f88ed"
   },
   "outputs": [
    {
     "data": {
      "image/png": "[encoded data removed]",
      "text/plain": [
       "<Figure size 432x288 with 1 Axes>"
      ]
     },
     "metadata": {
      "needs_background": "light"
     },
     "output_type": "display_data"
    }
   ],
   "source": [
    "imgs = plt.imshow(x_train[0], cmap='gray')"
   ]
  },
  {
   "cell_type": "markdown",
   "metadata": {},
   "source": [
    "Reshaping the loaded train & test datasets and converting datatype to float"
   ]
  },
  {
   "cell_type": "code",
   "execution_count": 11,
   "metadata": {
    "colab": {},
    "colab_type": "code",
    "id": "3cZZVbi8j9Oy"
   },
   "outputs": [],
   "source": [
    "x_train = x_train.reshape(y_train.shape[0], 784)\n",
    "x_test = x_test.reshape(y_test.shape[0], 784)\n",
    "x_train = x_train.astype(np.float32)\n",
    "x_test = x_test.astype(np.float32)"
   ]
  },
  {
   "cell_type": "code",
   "execution_count": 12,
   "metadata": {
    "colab": {
     "base_uri": "https://localhost:8080/",
     "height": 51
    },
    "colab_type": "code",
    "id": "ogRbr0w2kJmQ",
    "outputId": "d9e1d507-9bdf-4eaf-fc72-7bbf70f387ba"
   },
   "outputs": [
    {
     "name": "stdout",
     "output_type": "stream",
     "text": [
      "(60000, 784) (60000,)\n",
      "(10000, 784) (10000,)\n",
      "No of provided training examples =  60000\n",
      "No of provided test examples =  10000\n",
      "Overall number of classes/categories in the dataset =  10\n"
     ]
    }
   ],
   "source": [
    "print (x_train.shape, y_train.shape)\n",
    "print (x_test.shape, y_test.shape)\n",
    "print (\"No of provided training examples = \", x_train.shape[0])\n",
    "print (\"No of provided test examples = \", x_test.shape[0])\n",
    "print (\"Overall number of classes/categories in the dataset = \", len(np.unique(y_train)))"
   ]
  },
  {
   "cell_type": "markdown",
   "metadata": {},
   "source": [
    "Creating a validation subset for hyper-parameter tuning. For that, we sample randomly 10000 data points from the provided training dataset"
   ]
  },
  {
   "cell_type": "code",
   "execution_count": null,
   "metadata": {},
   "outputs": [],
   "source": [
    "n = 10000\n",
    "index = np.random.choice(x_train.shape[0], n, replace=False)  \n",
    "x_subset = x_train[index]\n",
    "y_subset = y_train[index]\n",
    "\n",
    "# print (np.unique(y_subset))\n",
    "# print (np.histogram(y_subset))\n",
    "\n",
    "pickle.dump(index, open(BASE_PATH + \"val_indices\", \"wb\"))"
   ]
  },
  {
   "cell_type": "markdown",
   "metadata": {},
   "source": [
    "Normalizing the train, validation & test dataset"
   ]
  },
  {
   "cell_type": "code",
   "execution_count": 13,
   "metadata": {
    "colab": {},
    "colab_type": "code",
    "id": "Vmza8JjPu6k3"
   },
   "outputs": [
    {
     "name": "stdout",
     "output_type": "stream",
     "text": [
      "[ 2152 23381 54801 ... 36605 32319 32212]\n"
     ]
    }
   ],
   "source": [
    "val_indices = pickle.load(open(BASE_PATH + \"val_indices\", \"rb\"))\n",
    "print (val_indices)\n",
    "\n",
    "ss = StandardScaler()\n",
    "x_train_norm = ss.fit_transform(x_train)\n",
    "x_test_norm = ss.fit_transform(x_test)\n",
    "\n",
    "indices = [x for x in range(60000)]\n",
    "train_indices = [i for i in indices if i not in val_indices]\n",
    "\n",
    "x_tr = x_train_norm[train_indices]\n",
    "x_val = x_train_norm[val_indices]\n",
    "y_tr = y_train[train_indices]\n",
    "y_val = y_train[val_indices]"
   ]
  },
  {
   "cell_type": "markdown",
   "metadata": {},
   "source": [
    "Hyper-parameter tuning suing GridSearch for C (penalty term for error of SVM) and Gamma (kernel coefficient)"
   ]
  },
  {
   "cell_type": "code",
   "execution_count": 18,
   "metadata": {},
   "outputs": [
    {
     "name": "stderr",
     "output_type": "stream",
     "text": [
      "/home/lilly/anaconda3/envs/ai_project/lib/python3.6/site-packages/sklearn/model_selection/_split.py:2053: FutureWarning: You should specify a value for 'cv' instead of relying on the default value. The default value will change from 3 to 5 in version 0.22.\n",
      "  warnings.warn(CV_WARNING, FutureWarning)\n",
      "[Parallel(n_jobs=1)]: Using backend SequentialBackend with 1 concurrent workers.\n"
     ]
    },
    {
     "name": "stdout",
     "output_type": "stream",
     "text": [
      "Fitting 3 folds for each of 4 candidates, totalling 12 fits\n",
      "[CV] C=1, gamma=0.1 ..................................................\n",
      "[LibSVM][CV] ......... C=1, gamma=0.1, score=0.8612110311750599, total=  52.5s\n",
      "[CV] C=1, gamma=0.1 ..................................................\n",
      "[LibSVM]"
     ]
    },
    {
     "name": "stderr",
     "output_type": "stream",
     "text": [
      "[Parallel(n_jobs=1)]: Done   1 out of   1 | elapsed:  1.6min remaining:    0.0s\n"
     ]
    },
    {
     "name": "stdout",
     "output_type": "stream",
     "text": [
      "[CV] ......... C=1, gamma=0.1, score=0.8658865886588659, total=  53.2s\n",
      "[CV] C=1, gamma=0.1 ..................................................\n",
      "[LibSVM]"
     ]
    },
    {
     "name": "stderr",
     "output_type": "stream",
     "text": [
      "[Parallel(n_jobs=1)]: Done   2 out of   2 | elapsed:  3.1min remaining:    0.0s\n"
     ]
    },
    {
     "name": "stdout",
     "output_type": "stream",
     "text": [
      "[CV] ......... C=1, gamma=0.1, score=0.8504953467427199, total=  52.0s\n",
      "[CV] C=1, gamma=0.01 .................................................\n",
      "[LibSVM]"
     ]
    },
    {
     "name": "stderr",
     "output_type": "stream",
     "text": [
      "[Parallel(n_jobs=1)]: Done   3 out of   3 | elapsed:  4.7min remaining:    0.0s\n"
     ]
    },
    {
     "name": "stdout",
     "output_type": "stream",
     "text": [
      "[CV] ........ C=1, gamma=0.01, score=0.8612110311750599, total=  52.1s\n",
      "[CV] C=1, gamma=0.01 .................................................\n",
      "[LibSVM][CV] ........ C=1, gamma=0.01, score=0.8658865886588659, total=  53.2s\n",
      "[CV] C=1, gamma=0.01 .................................................\n",
      "[LibSVM][CV] ........ C=1, gamma=0.01, score=0.8504953467427199, total=  51.9s\n",
      "[CV] C=10, gamma=0.1 .................................................\n",
      "[LibSVM][CV] ........ C=10, gamma=0.1, score=0.8612110311750599, total=  52.1s\n",
      "[CV] C=10, gamma=0.1 .................................................\n",
      "[LibSVM][CV] ........ C=10, gamma=0.1, score=0.8658865886588659, total=  53.2s\n",
      "[CV] C=10, gamma=0.1 .................................................\n",
      "[LibSVM][CV] ........ C=10, gamma=0.1, score=0.8504953467427199, total=  51.9s\n",
      "[CV] C=10, gamma=0.01 ................................................\n",
      "[LibSVM][CV] ....... C=10, gamma=0.01, score=0.8612110311750599, total=  52.1s\n",
      "[CV] C=10, gamma=0.01 ................................................\n",
      "[LibSVM][CV] ....... C=10, gamma=0.01, score=0.8658865886588659, total=  53.2s\n",
      "[CV] C=10, gamma=0.01 ................................................\n",
      "[LibSVM][CV] ....... C=10, gamma=0.01, score=0.8504953467427199, total=  51.9s\n",
      "[LibSVM]"
     ]
    },
    {
     "name": "stderr",
     "output_type": "stream",
     "text": [
      "[Parallel(n_jobs=1)]: Done  12 out of  12 | elapsed: 18.7min finished\n"
     ]
    },
    {
     "name": "stdout",
     "output_type": "stream",
     "text": [
      "Best parameters found\n",
      "Best: 0.859200 using {'C': 1, 'gamma': 0.1}\n",
      "0.859200 (0.006441) with: {'C': 1, 'gamma': 0.1}\n",
      "0.859200 (0.006441) with: {'C': 1, 'gamma': 0.01}\n",
      "0.859200 (0.006441) with: {'C': 10, 'gamma': 0.1}\n",
      "0.859200 (0.006441) with: {'C': 10, 'gamma': 0.01}\n"
     ]
    }
   ],
   "source": [
    "svm_model = svm.SVC(verbose=True, kernel='poly')\n",
    "parameters = {'C':(1,10),'gamma': (0.1,0.01)}\n",
    "\n",
    "grid_result = GridSearchCV(svm_model, parameters, verbose=4)\n",
    "grid_result.fit(x_val, y_val)\n",
    "\n",
    "print (\"Best parameters found\")\n",
    "print(\"Best: %f using %s\" % (grid_result.best_score_, grid_result.best_params_))\n",
    "\n",
    "means = grid_result.cv_results_['mean_test_score']\n",
    "stds = grid_result.cv_results_['std_test_score']\n",
    "params = grid_result.cv_results_['params']\n",
    "\n",
    "for mean, stdev, param in zip(means, stds, params):\n",
    "    print(\"%f (%f) with: %r\" % (mean, stdev, param))"
   ]
  },
  {
   "cell_type": "markdown",
   "metadata": {},
   "source": [
    "Hyper-parameter tuning suing GridSearch for C (penalty term for error of SVM), Gamma (kernel coefficient) and Degree (degree of the polynomial kernel function used for transforming the data) ---> since the above method returned same validation accuracy for all 4 possible combinations"
   ]
  },
  {
   "cell_type": "code",
   "execution_count": 20,
   "metadata": {
    "scrolled": false
   },
   "outputs": [
    {
     "name": "stderr",
     "output_type": "stream",
     "text": [
      "/home/lilly/anaconda3/envs/ai_project/lib/python3.6/site-packages/sklearn/model_selection/_split.py:2053: FutureWarning: You should specify a value for 'cv' instead of relying on the default value. The default value will change from 3 to 5 in version 0.22.\n",
      "  warnings.warn(CV_WARNING, FutureWarning)\n",
      "[Parallel(n_jobs=1)]: Using backend SequentialBackend with 1 concurrent workers.\n"
     ]
    },
    {
     "name": "stdout",
     "output_type": "stream",
     "text": [
      "Fitting 3 folds for each of 12 candidates, totalling 36 fits\n",
      "[CV] C=1, degree=3, gamma=0.1 ........................................\n",
      "[LibSVM][CV]  C=1, degree=3, gamma=0.1, score=0.8612110311750599, total=  52.0s\n",
      "[CV] C=1, degree=3, gamma=0.1 ........................................\n",
      "[LibSVM]"
     ]
    },
    {
     "name": "stderr",
     "output_type": "stream",
     "text": [
      "[Parallel(n_jobs=1)]: Done   1 out of   1 | elapsed:  1.6min remaining:    0.0s\n"
     ]
    },
    {
     "name": "stdout",
     "output_type": "stream",
     "text": [
      "[CV]  C=1, degree=3, gamma=0.1, score=0.8658865886588659, total=  53.1s\n",
      "[CV] C=1, degree=3, gamma=0.1 ........................................\n",
      "[LibSVM]"
     ]
    },
    {
     "name": "stderr",
     "output_type": "stream",
     "text": [
      "[Parallel(n_jobs=1)]: Done   2 out of   2 | elapsed:  3.1min remaining:    0.0s\n"
     ]
    },
    {
     "name": "stdout",
     "output_type": "stream",
     "text": [
      "[CV]  C=1, degree=3, gamma=0.1, score=0.8504953467427199, total=  51.8s\n",
      "[CV] C=1, degree=3, gamma=0.01 .......................................\n",
      "[LibSVM]"
     ]
    },
    {
     "name": "stderr",
     "output_type": "stream",
     "text": [
      "[Parallel(n_jobs=1)]: Done   3 out of   3 | elapsed:  4.7min remaining:    0.0s\n"
     ]
    },
    {
     "name": "stdout",
     "output_type": "stream",
     "text": [
      "[CV]  C=1, degree=3, gamma=0.01, score=0.8612110311750599, total=  52.0s\n",
      "[CV] C=1, degree=3, gamma=0.01 .......................................\n",
      "[LibSVM][CV]  C=1, degree=3, gamma=0.01, score=0.8658865886588659, total=  53.0s\n",
      "[CV] C=1, degree=3, gamma=0.01 .......................................\n",
      "[LibSVM][CV]  C=1, degree=3, gamma=0.01, score=0.8504953467427199, total=  51.9s\n",
      "[CV] C=1, degree=4, gamma=0.1 ........................................\n",
      "[LibSVM][CV]  C=1, degree=4, gamma=0.1, score=0.8408273381294964, total= 1.1min\n",
      "[CV] C=1, degree=4, gamma=0.1 ........................................\n",
      "[LibSVM][CV]  C=1, degree=4, gamma=0.1, score=0.8595859585958596, total= 1.1min\n",
      "[CV] C=1, degree=4, gamma=0.1 ........................................\n",
      "[LibSVM][CV]  C=1, degree=4, gamma=0.1, score=0.8369858901230861, total= 1.1min\n",
      "[CV] C=1, degree=4, gamma=0.01 .......................................\n",
      "[LibSVM][CV]  C=1, degree=4, gamma=0.01, score=0.8408273381294964, total= 1.1min\n",
      "[CV] C=1, degree=4, gamma=0.01 .......................................\n",
      "[LibSVM][CV]  C=1, degree=4, gamma=0.01, score=0.8595859585958596, total= 1.1min\n",
      "[CV] C=1, degree=4, gamma=0.01 .......................................\n",
      "[LibSVM][CV]  C=1, degree=4, gamma=0.01, score=0.8369858901230861, total= 1.1min\n",
      "[CV] C=1, degree=5, gamma=0.1 ........................................\n",
      "[LibSVM][CV]  C=1, degree=5, gamma=0.1, score=0.8300359712230215, total= 1.1min\n",
      "[CV] C=1, degree=5, gamma=0.1 ........................................\n",
      "[LibSVM][CV]  C=1, degree=5, gamma=0.1, score=0.8502850285028503, total= 1.1min\n",
      "[CV] C=1, degree=5, gamma=0.1 ........................................\n",
      "[LibSVM][CV]  C=1, degree=5, gamma=0.1, score=0.8342839987991594, total= 1.1min\n",
      "[CV] C=1, degree=5, gamma=0.01 .......................................\n",
      "[LibSVM][CV]  C=1, degree=5, gamma=0.01, score=0.8300359712230215, total= 1.1min\n",
      "[CV] C=1, degree=5, gamma=0.01 .......................................\n",
      "[LibSVM][CV]  C=1, degree=5, gamma=0.01, score=0.8502850285028503, total= 1.1min\n",
      "[CV] C=1, degree=5, gamma=0.01 .......................................\n",
      "[LibSVM][CV]  C=1, degree=5, gamma=0.01, score=0.8342839987991594, total= 1.1min\n",
      "[CV] C=10, degree=3, gamma=0.1 .......................................\n",
      "[LibSVM][CV]  C=10, degree=3, gamma=0.1, score=0.8612110311750599, total=  52.0s\n",
      "[CV] C=10, degree=3, gamma=0.1 .......................................\n",
      "[LibSVM][CV]  C=10, degree=3, gamma=0.1, score=0.8658865886588659, total=  53.1s\n",
      "[CV] C=10, degree=3, gamma=0.1 .......................................\n",
      "[LibSVM][CV]  C=10, degree=3, gamma=0.1, score=0.8504953467427199, total=  51.8s\n",
      "[CV] C=10, degree=3, gamma=0.01 ......................................\n",
      "[LibSVM][CV]  C=10, degree=3, gamma=0.01, score=0.8612110311750599, total=  52.0s\n",
      "[CV] C=10, degree=3, gamma=0.01 ......................................\n",
      "[LibSVM][CV]  C=10, degree=3, gamma=0.01, score=0.8658865886588659, total=  53.1s\n",
      "[CV] C=10, degree=3, gamma=0.01 ......................................\n",
      "[LibSVM][CV]  C=10, degree=3, gamma=0.01, score=0.8504953467427199, total=  51.7s\n",
      "[CV] C=10, degree=4, gamma=0.1 .......................................\n",
      "[LibSVM][CV]  C=10, degree=4, gamma=0.1, score=0.8408273381294964, total= 1.1min\n",
      "[CV] C=10, degree=4, gamma=0.1 .......................................\n",
      "[LibSVM][CV]  C=10, degree=4, gamma=0.1, score=0.8595859585958596, total= 1.1min\n",
      "[CV] C=10, degree=4, gamma=0.1 .......................................\n",
      "[LibSVM][CV]  C=10, degree=4, gamma=0.1, score=0.8369858901230861, total= 1.1min\n",
      "[CV] C=10, degree=4, gamma=0.01 ......................................\n",
      "[LibSVM][CV]  C=10, degree=4, gamma=0.01, score=0.8408273381294964, total= 1.1min\n",
      "[CV] C=10, degree=4, gamma=0.01 ......................................\n",
      "[LibSVM][CV]  C=10, degree=4, gamma=0.01, score=0.8595859585958596, total= 1.1min\n",
      "[CV] C=10, degree=4, gamma=0.01 ......................................\n",
      "[LibSVM][CV]  C=10, degree=4, gamma=0.01, score=0.8369858901230861, total= 1.1min\n",
      "[CV] C=10, degree=5, gamma=0.1 .......................................\n",
      "[LibSVM][CV]  C=10, degree=5, gamma=0.1, score=0.8300359712230215, total= 1.1min\n",
      "[CV] C=10, degree=5, gamma=0.1 .......................................\n",
      "[LibSVM][CV]  C=10, degree=5, gamma=0.1, score=0.8502850285028503, total= 1.1min\n",
      "[CV] C=10, degree=5, gamma=0.1 .......................................\n",
      "[LibSVM][CV]  C=10, degree=5, gamma=0.1, score=0.8342839987991594, total= 1.1min\n",
      "[CV] C=10, degree=5, gamma=0.01 ......................................\n",
      "[LibSVM][CV]  C=10, degree=5, gamma=0.01, score=0.8300359712230215, total= 1.1min\n",
      "[CV] C=10, degree=5, gamma=0.01 ......................................\n",
      "[LibSVM][CV]  C=10, degree=5, gamma=0.01, score=0.8502850285028503, total= 1.1min\n",
      "[CV] C=10, degree=5, gamma=0.01 ......................................\n",
      "[LibSVM][CV]  C=10, degree=5, gamma=0.01, score=0.8342839987991594, total= 1.1min\n",
      "[LibSVM]"
     ]
    },
    {
     "name": "stderr",
     "output_type": "stream",
     "text": [
      "[Parallel(n_jobs=1)]: Done  36 out of  36 | elapsed: 61.9min finished\n"
     ]
    },
    {
     "name": "stdout",
     "output_type": "stream",
     "text": [
      "Best parameters found\n",
      "Best: 0.859200 using {'C': 1, 'degree': 3, 'gamma': 0.1}\n",
      "0.859200 (0.006441) with: {'C': 1, 'degree': 3, 'gamma': 0.1}\n",
      "0.859200 (0.006441) with: {'C': 1, 'degree': 3, 'gamma': 0.01}\n",
      "0.845800 (0.009873) with: {'C': 1, 'degree': 4, 'gamma': 0.1}\n",
      "0.845800 (0.009873) with: {'C': 1, 'degree': 4, 'gamma': 0.01}\n",
      "0.838200 (0.008719) with: {'C': 1, 'degree': 5, 'gamma': 0.1}\n",
      "0.838200 (0.008719) with: {'C': 1, 'degree': 5, 'gamma': 0.01}\n",
      "0.859200 (0.006441) with: {'C': 10, 'degree': 3, 'gamma': 0.1}\n",
      "0.859200 (0.006441) with: {'C': 10, 'degree': 3, 'gamma': 0.01}\n",
      "0.845800 (0.009873) with: {'C': 10, 'degree': 4, 'gamma': 0.1}\n",
      "0.845800 (0.009873) with: {'C': 10, 'degree': 4, 'gamma': 0.01}\n",
      "0.838200 (0.008719) with: {'C': 10, 'degree': 5, 'gamma': 0.1}\n",
      "0.838200 (0.008719) with: {'C': 10, 'degree': 5, 'gamma': 0.01}\n"
     ]
    }
   ],
   "source": [
    "svm_model = svm.SVC(verbose=True, kernel='poly')\n",
    "parameters = {'C':(1,10),'gamma': (0.1,0.01), 'degree': (3,4,5)}\n",
    "\n",
    "grid_result = GridSearchCV(svm_model, parameters, verbose=4)\n",
    "grid_result.fit(x_val, y_val)\n",
    "\n",
    "print (\"Best parameters found\")\n",
    "print(\"Best: %f using %s\" % (grid_result.best_score_, grid_result.best_params_))\n",
    "\n",
    "means = grid_result.cv_results_['mean_test_score']\n",
    "stds = grid_result.cv_results_['std_test_score']\n",
    "params = grid_result.cv_results_['params']\n",
    "\n",
    "for mean, stdev, param in zip(means, stds, params):\n",
    "    print(\"%f (%f) with: %r\" % (mean, stdev, param))"
   ]
  },
  {
   "cell_type": "markdown",
   "metadata": {},
   "source": [
    "Finally learning a SVM by fitting on the training dataset (of 50k images) using the hyper-parameters chosen via GridSearch"
   ]
  },
  {
   "cell_type": "code",
   "execution_count": 0,
   "metadata": {
    "colab": {
     "base_uri": "https://localhost:8080/",
     "height": 85
    },
    "colab_type": "code",
    "id": "Q6ebV9KOuo0n",
    "outputId": "8550a1f4-dced-478e-fc04-f14506966fe6"
   },
   "outputs": [
    {
     "name": "stdout",
     "output_type": "stream",
     "text": [
      "[LibSVM]"
     ]
    },
    {
     "data": {
      "text/plain": [
       "SVC(C=1, cache_size=200, class_weight=None, coef0=0.0,\n",
       "  decision_function_shape='ovr', degree=3, gamma=0.1, kernel='poly',\n",
       "  max_iter=-1, probability=False, random_state=None, shrinking=True,\n",
       "  tol=0.001, verbose=True)"
      ]
     },
     "execution_count": 16,
     "metadata": {
      "tags": []
     },
     "output_type": "execute_result"
    }
   ],
   "source": [
    "svm_clf = svm.SVC(gamma=0.1, C=1, kernel='poly', degree=3, verbose=True)\n",
    "svm_clf.fit(x_tr, y_tr)"
   ]
  },
  {
   "cell_type": "code",
   "execution_count": 0,
   "metadata": {
    "colab": {
     "base_uri": "https://localhost:8080/",
     "height": 34
    },
    "colab_type": "code",
    "id": "F5AYzPSEZ6Y9",
    "outputId": "03211667-7e12-467c-b451-e6886889478b"
   },
   "outputs": [
    {
     "name": "stdout",
     "output_type": "stream",
     "text": [
      "Accuracy of SVM Classifier on test dataset =  0.8894\n"
     ]
    }
   ],
   "source": [
    "acc = svm_clf.score(x_test_norm,y_test)\n",
    "print('Accuracy of SVM Classifier on test dataset = ', acc)"
   ]
  },
  {
   "cell_type": "code",
   "execution_count": 0,
   "metadata": {
    "colab": {},
    "colab_type": "code",
    "id": "NfXQTfmavkTm"
   },
   "outputs": [],
   "source": [
    "## Saving the SVM classifier for future use\n",
    "pickle.dump(svm_clf, open(BASE_PATH + \"best_svm\", \"wb\"))"
   ]
  },
  {
   "cell_type": "code",
   "execution_count": 15,
   "metadata": {
    "colab": {},
    "colab_type": "code",
    "id": "P8tjMa0x2dyQ"
   },
   "outputs": [],
   "source": [
    "# Getting the prediction on the test dataset using the learned SVM classifier\n",
    "y_pred = svm_clf.predict(x_test_norm)"
   ]
  },
  {
   "cell_type": "markdown",
   "metadata": {},
   "source": [
    "Plotting a heat map for the confusion matrix calculated over the test labels & predicted labels"
   ]
  },
  {
   "cell_type": "code",
   "execution_count": 40,
   "metadata": {},
   "outputs": [
    {
     "data": {
      "text/plain": [
       "<Figure size 432x288 with 0 Axes>"
      ]
     },
     "metadata": {},
     "output_type": "display_data"
    },
    {
     "data": {
      "image/png": "[encoded data removed]",
      "text/plain": [
       "<Figure size 1440x1440 with 2 Axes>"
      ]
     },
     "metadata": {
      "needs_background": "light"
     },
     "output_type": "display_data"
    }
   ],
   "source": [
    "labels = ['T-shirt/Top', 'Trouser','Pullover','Dress','Coat','Sandal','Shirt','Sneaker','Bag','Ankle Boot']\n",
    "\n",
    "def plot_confusion_matrix(cm, labels, cmap=plt.cm.Blues):\n",
    "    plt.figure(figsize=(20,20))\n",
    "    plt.tick_params(axis='both', which='major', labelsize=22)\n",
    "    plt.imshow(cm, interpolation='nearest', cmap=cmap)\n",
    "    plt.colorbar()\n",
    "    ticks = np.arange(len(labels))\n",
    "    plt.xticks(ticks, labels, rotation=45)\n",
    "    plt.yticks(ticks, labels)\n",
    "    plt.ylabel('True Class', size=25)\n",
    "    plt.xlabel('Predicted Class', size=25)\n",
    "    plt.tight_layout()\n",
    "\n",
    "# Compute confusion matrix\n",
    "cm = confusion_matrix(y_test, y_pred)\n",
    "np.set_printoptions(precision=2)\n",
    "\n",
    "plt.figure()\n",
    "plot_confusion_matrix(cm, labels)\n",
    "plt.show()"
   ]
  },
  {
   "cell_type": "markdown",
   "metadata": {},
   "source": [
    "Getting the classification report which includes micro level precision, recall & F1 score evaluation on test data"
   ]
  },
  {
   "cell_type": "code",
   "execution_count": 29,
   "metadata": {
    "colab": {
     "base_uri": "https://localhost:8080/",
     "height": 272
    },
    "colab_type": "code",
    "id": "G0PbWpdt58oZ",
    "outputId": "74f62694-cc86-4bd0-bac6-c502bf2ffc34"
   },
   "outputs": [
    {
     "name": "stdout",
     "output_type": "stream",
     "text": [
      "              precision    recall  f1-score   support\n",
      "\n",
      " T-shirt/Top       0.82      0.84      0.83      1000\n",
      "     Trouser       0.99      0.97      0.98      1000\n",
      "    Pullover       0.78      0.83      0.81      1000\n",
      "       Dress       0.90      0.90      0.90      1000\n",
      "        Coat       0.83      0.82      0.83      1000\n",
      "      Sandal       0.98      0.96      0.97      1000\n",
      "       Shirt       0.72      0.68      0.70      1000\n",
      "     Sneaker       0.94      0.97      0.96      1000\n",
      "         Bag       0.97      0.96      0.97      1000\n",
      "  Ankle Boot       0.97      0.96      0.96      1000\n",
      "\n",
      "   micro avg       0.89      0.89      0.89     10000\n",
      "   macro avg       0.89      0.89      0.89     10000\n",
      "weighted avg       0.89      0.89      0.89     10000\n",
      "\n"
     ]
    }
   ],
   "source": [
    "print(classification_report(y_test, y_pred, target_names=labels))"
   ]
  },
  {
   "cell_type": "markdown",
   "metadata": {},
   "source": [
    "Plotting a grid of test images with their actual & predicted labels for visualizations"
   ]
  },
  {
   "cell_type": "code",
   "execution_count": 48,
   "metadata": {
    "colab": {
     "base_uri": "https://localhost:8080/",
     "height": 628
    },
    "colab_type": "code",
    "id": "efgTqw_K-jvj",
    "outputId": "571c26bf-3e17-44d5-f8f0-00c46ac9080d"
   },
   "outputs": [
    {
     "name": "stdout",
     "output_type": "stream",
     "text": [
      "[0 1 2 3 4 5 6 7 8]\n"
     ]
    },
    {
     "data": {
      "image/png": "[encoded data removed]",
      "text/plain": [
       "<Figure size 720x720 with 16 Axes>"
      ]
     },
     "metadata": {
      "needs_background": "light"
     },
     "output_type": "display_data"
    }
   ],
   "source": [
    "index = np.random.choice(x_test_norm.shape[0], 16, replace=False)\n",
    "print (np.unique(y_test[index]))\n",
    "\n",
    "def plot_predictions(images, predictions, gt):\n",
    "    n = images.shape[0]\n",
    "    num_row = int(np.ceil(n / 4))\n",
    "    rows, axes = plt.subplots(num_row, 4)\n",
    "    for i in range(num_row * 4):\n",
    "        x = i % 4\n",
    "        y = i // 4\n",
    "        axes[x, y].axis('off')\n",
    "        label = labels[int(predictions[i])]\n",
    "        actual = labels[gt[i]]\n",
    "        axes[x, y].imshow(images[i].reshape(28,28), cmap='gray')\n",
    "        axes[x, y].text(-1, -1, \"Actual: \" + actual + '\\n Pred: %s' % label, fontsize=11)\n",
    "        plt.gcf().set_size_inches(10, 10)  \n",
    "\n",
    "plot_predictions(np.squeeze(x_test[index]), y_pred[index], y_test[index])"
   ]
  }
 ],
 "metadata": {
  "colab": {
   "collapsed_sections": [],
   "name": "ai_exp_new.ipynb",
   "provenance": [],
   "version": "0.3.2"
  },
  "kernelspec": {
   "display_name": "Python 3",
   "language": "python",
   "name": "python3"
  },
  "language_info": {
   "codemirror_mode": {
    "name": "ipython",
    "version": 3
   },
   "file_extension": ".py",
   "mimetype": "text/x-python",
   "name": "python",
   "nbconvert_exporter": "python",
   "pygments_lexer": "ipython3",
   "version": "3.6.7"
  }
 },
 "nbformat": 4,
 "nbformat_minor": 1
}
